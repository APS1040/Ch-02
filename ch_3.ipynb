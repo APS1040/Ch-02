{
  "nbformat": 4,
  "nbformat_minor": 0,
  "metadata": {
    "kernelspec": {
      "display_name": "Python 3",
      "language": "python",
      "name": "python3"
    },
    "language_info": {
      "codemirror_mode": {
        "name": "ipython",
        "version": 3
      },
      "file_extension": ".py",
      "mimetype": "text/x-python",
      "name": "python",
      "nbconvert_exporter": "python",
      "pygments_lexer": "ipython3",
      "version": "3.7.3"
    },
    "colab": {
      "name": "ch_3.ipynb",
      "provenance": []
    }
  },
  "cells": [
    {
      "cell_type": "markdown",
      "metadata": {
        "id": "gYKQN7b1MpYA"
      },
      "source": [
        "# Descriptive Statistics (Ch 3)\n",
        "\n",
        "New Python Built-in functions: int\n",
        "\n",
        "New functions in pandas: DataFrame\n",
        "\n",
        "New methods in pandas: rank, mean, sum, max, var, std, sem, median, mode, size, loc, quantile\n",
        "\n",
        "New functions in numpy: arange\n",
        "\n",
        "New functions in matplotlib.pyplot: hist, show, plot, grid, title, xlabel, ylabel, scatter, boxplot\n",
        "\n",
        "New function in stemgraphic: stem_graphic\n",
        "\n",
        "For all examples we will use the same data file ch_1 as used in Ch 1"
      ]
    },
    {
      "cell_type": "markdown",
      "metadata": {
        "id": "-nwcp9a0MpYF"
      },
      "source": [
        "## New Python Built-in function"
      ]
    },
    {
      "cell_type": "markdown",
      "metadata": {
        "id": "g_5sy0rUMpYG"
      },
      "source": [
        "### int\n",
        "\n",
        "Converts a real or integer-string to an integer"
      ]
    },
    {
      "cell_type": "code",
      "metadata": {
        "id": "5j8dtiiVMpYG",
        "outputId": "2141e422-e4ba-4364-f14e-bb167096f0ee",
        "colab": {
          "base_uri": "https://localhost:8080/"
        }
      },
      "source": [
        "int(3.33)"
      ],
      "execution_count": 23,
      "outputs": [
        {
          "output_type": "execute_result",
          "data": {
            "text/plain": [
              "3"
            ]
          },
          "metadata": {
            "tags": []
          },
          "execution_count": 23
        }
      ]
    },
    {
      "cell_type": "markdown",
      "metadata": {
        "id": "T7pZ5wBnMpYH"
      },
      "source": [
        "# New Functions in pandas"
      ]
    },
    {
      "cell_type": "code",
      "metadata": {
        "id": "WQR2l2rDM59l"
      },
      "source": [
        ""
      ],
      "execution_count": 23,
      "outputs": []
    },
    {
      "cell_type": "markdown",
      "metadata": {
        "id": "x9sneb54MpYI"
      },
      "source": [
        "### DataFrame\n",
        "\n",
        "Used here to create a new computed column in df. "
      ]
    },
    {
      "cell_type": "code",
      "metadata": {
        "id": "fasvKomWMpYI",
        "outputId": "217a8621-1b09-4c85-ed8f-03de2f94be1a",
        "colab": {
          "base_uri": "https://localhost:8080/",
          "height": 204
        }
      },
      "source": [
        "url = 'https://raw.githubusercontent.com/APS1040/Day01/main/ch_1.csv'\n",
        "import pandas as pd\n",
        "df=pd.read_csv(url)\n",
        "df.head()"
      ],
      "execution_count": 24,
      "outputs": [
        {
          "output_type": "execute_result",
          "data": {
            "text/html": [
              "<div>\n",
              "<style scoped>\n",
              "    .dataframe tbody tr th:only-of-type {\n",
              "        vertical-align: middle;\n",
              "    }\n",
              "\n",
              "    .dataframe tbody tr th {\n",
              "        vertical-align: top;\n",
              "    }\n",
              "\n",
              "    .dataframe thead th {\n",
              "        text-align: right;\n",
              "    }\n",
              "</style>\n",
              "<table border=\"1\" class=\"dataframe\">\n",
              "  <thead>\n",
              "    <tr style=\"text-align: right;\">\n",
              "      <th></th>\n",
              "      <th>width</th>\n",
              "      <th>height</th>\n",
              "    </tr>\n",
              "  </thead>\n",
              "  <tbody>\n",
              "    <tr>\n",
              "      <th>0</th>\n",
              "      <td>2.91</td>\n",
              "      <td>0.03</td>\n",
              "    </tr>\n",
              "    <tr>\n",
              "      <th>1</th>\n",
              "      <td>6.07</td>\n",
              "      <td>12.17</td>\n",
              "    </tr>\n",
              "    <tr>\n",
              "      <th>2</th>\n",
              "      <td>1.22</td>\n",
              "      <td>0.78</td>\n",
              "    </tr>\n",
              "    <tr>\n",
              "      <th>3</th>\n",
              "      <td>6.37</td>\n",
              "      <td>8.26</td>\n",
              "    </tr>\n",
              "    <tr>\n",
              "      <th>4</th>\n",
              "      <td>1.75</td>\n",
              "      <td>5.84</td>\n",
              "    </tr>\n",
              "  </tbody>\n",
              "</table>\n",
              "</div>"
            ],
            "text/plain": [
              "   width  height\n",
              "0   2.91    0.03\n",
              "1   6.07   12.17\n",
              "2   1.22    0.78\n",
              "3   6.37    8.26\n",
              "4   1.75    5.84"
            ]
          },
          "metadata": {
            "tags": []
          },
          "execution_count": 24
        }
      ]
    },
    {
      "cell_type": "code",
      "metadata": {
        "id": "-hev_RY2MpYI",
        "outputId": "da3b80bf-f285-4a4e-ba6d-eb688a9cbdfb",
        "colab": {
          "base_uri": "https://localhost:8080/",
          "height": 204
        }
      },
      "source": [
        "df['sum']=pd.DataFrame(df['width']+df['height'])\n",
        "df.head()"
      ],
      "execution_count": 25,
      "outputs": [
        {
          "output_type": "execute_result",
          "data": {
            "text/html": [
              "<div>\n",
              "<style scoped>\n",
              "    .dataframe tbody tr th:only-of-type {\n",
              "        vertical-align: middle;\n",
              "    }\n",
              "\n",
              "    .dataframe tbody tr th {\n",
              "        vertical-align: top;\n",
              "    }\n",
              "\n",
              "    .dataframe thead th {\n",
              "        text-align: right;\n",
              "    }\n",
              "</style>\n",
              "<table border=\"1\" class=\"dataframe\">\n",
              "  <thead>\n",
              "    <tr style=\"text-align: right;\">\n",
              "      <th></th>\n",
              "      <th>width</th>\n",
              "      <th>height</th>\n",
              "      <th>sum</th>\n",
              "    </tr>\n",
              "  </thead>\n",
              "  <tbody>\n",
              "    <tr>\n",
              "      <th>0</th>\n",
              "      <td>2.91</td>\n",
              "      <td>0.03</td>\n",
              "      <td>2.94</td>\n",
              "    </tr>\n",
              "    <tr>\n",
              "      <th>1</th>\n",
              "      <td>6.07</td>\n",
              "      <td>12.17</td>\n",
              "      <td>18.24</td>\n",
              "    </tr>\n",
              "    <tr>\n",
              "      <th>2</th>\n",
              "      <td>1.22</td>\n",
              "      <td>0.78</td>\n",
              "      <td>2.00</td>\n",
              "    </tr>\n",
              "    <tr>\n",
              "      <th>3</th>\n",
              "      <td>6.37</td>\n",
              "      <td>8.26</td>\n",
              "      <td>14.63</td>\n",
              "    </tr>\n",
              "    <tr>\n",
              "      <th>4</th>\n",
              "      <td>1.75</td>\n",
              "      <td>5.84</td>\n",
              "      <td>7.59</td>\n",
              "    </tr>\n",
              "  </tbody>\n",
              "</table>\n",
              "</div>"
            ],
            "text/plain": [
              "   width  height    sum\n",
              "0   2.91    0.03   2.94\n",
              "1   6.07   12.17  18.24\n",
              "2   1.22    0.78   2.00\n",
              "3   6.37    8.26  14.63\n",
              "4   1.75    5.84   7.59"
            ]
          },
          "metadata": {
            "tags": []
          },
          "execution_count": 25
        }
      ]
    },
    {
      "cell_type": "markdown",
      "metadata": {
        "id": "Nj0zP-dSMpYJ"
      },
      "source": [
        "## New methods in pandas"
      ]
    },
    {
      "cell_type": "markdown",
      "metadata": {
        "id": "2We2NHAWMpYJ"
      },
      "source": [
        "### rank\n",
        "\n",
        "Finds the rank - all types 1 2 3 4, 1 2 2 4, 1 3 3 4, 1 2 2 3, 1 2.5 2.5 4 of data in df"
      ]
    },
    {
      "cell_type": "code",
      "metadata": {
        "id": "TLIo5-wxMpYJ",
        "outputId": "decfc1c7-2808-4a4c-fdef-b92d6b2d60fd",
        "colab": {
          "base_uri": "https://localhost:8080/",
          "height": 204
        }
      },
      "source": [
        "df['ordinal']=df['sum'].rank(method='first')\n",
        "df['std_comp']=df['sum'].rank(method='min')\n",
        "df['mod_comp']=df['sum'].rank(method='max')\n",
        "df['dense']=df['sum'].rank(method='dense')\n",
        "df['fractional']=df['sum'].rank(method='average')\n",
        "df.head()"
      ],
      "execution_count": 26,
      "outputs": [
        {
          "output_type": "execute_result",
          "data": {
            "text/html": [
              "<div>\n",
              "<style scoped>\n",
              "    .dataframe tbody tr th:only-of-type {\n",
              "        vertical-align: middle;\n",
              "    }\n",
              "\n",
              "    .dataframe tbody tr th {\n",
              "        vertical-align: top;\n",
              "    }\n",
              "\n",
              "    .dataframe thead th {\n",
              "        text-align: right;\n",
              "    }\n",
              "</style>\n",
              "<table border=\"1\" class=\"dataframe\">\n",
              "  <thead>\n",
              "    <tr style=\"text-align: right;\">\n",
              "      <th></th>\n",
              "      <th>width</th>\n",
              "      <th>height</th>\n",
              "      <th>sum</th>\n",
              "      <th>ordinal</th>\n",
              "      <th>std_comp</th>\n",
              "      <th>mod_comp</th>\n",
              "      <th>dense</th>\n",
              "      <th>fractional</th>\n",
              "    </tr>\n",
              "  </thead>\n",
              "  <tbody>\n",
              "    <tr>\n",
              "      <th>0</th>\n",
              "      <td>2.91</td>\n",
              "      <td>0.03</td>\n",
              "      <td>2.94</td>\n",
              "      <td>3.0</td>\n",
              "      <td>3.0</td>\n",
              "      <td>3.0</td>\n",
              "      <td>3.0</td>\n",
              "      <td>3.0</td>\n",
              "    </tr>\n",
              "    <tr>\n",
              "      <th>1</th>\n",
              "      <td>6.07</td>\n",
              "      <td>12.17</td>\n",
              "      <td>18.24</td>\n",
              "      <td>27.0</td>\n",
              "      <td>27.0</td>\n",
              "      <td>27.0</td>\n",
              "      <td>25.0</td>\n",
              "      <td>27.0</td>\n",
              "    </tr>\n",
              "    <tr>\n",
              "      <th>2</th>\n",
              "      <td>1.22</td>\n",
              "      <td>0.78</td>\n",
              "      <td>2.00</td>\n",
              "      <td>2.0</td>\n",
              "      <td>2.0</td>\n",
              "      <td>2.0</td>\n",
              "      <td>2.0</td>\n",
              "      <td>2.0</td>\n",
              "    </tr>\n",
              "    <tr>\n",
              "      <th>3</th>\n",
              "      <td>6.37</td>\n",
              "      <td>8.26</td>\n",
              "      <td>14.63</td>\n",
              "      <td>22.0</td>\n",
              "      <td>22.0</td>\n",
              "      <td>22.0</td>\n",
              "      <td>20.0</td>\n",
              "      <td>22.0</td>\n",
              "    </tr>\n",
              "    <tr>\n",
              "      <th>4</th>\n",
              "      <td>1.75</td>\n",
              "      <td>5.84</td>\n",
              "      <td>7.59</td>\n",
              "      <td>10.0</td>\n",
              "      <td>10.0</td>\n",
              "      <td>11.0</td>\n",
              "      <td>10.0</td>\n",
              "      <td>10.5</td>\n",
              "    </tr>\n",
              "  </tbody>\n",
              "</table>\n",
              "</div>"
            ],
            "text/plain": [
              "   width  height    sum  ordinal  std_comp  mod_comp  dense  fractional\n",
              "0   2.91    0.03   2.94      3.0       3.0       3.0    3.0         3.0\n",
              "1   6.07   12.17  18.24     27.0      27.0      27.0   25.0        27.0\n",
              "2   1.22    0.78   2.00      2.0       2.0       2.0    2.0         2.0\n",
              "3   6.37    8.26  14.63     22.0      22.0      22.0   20.0        22.0\n",
              "4   1.75    5.84   7.59     10.0      10.0      11.0   10.0        10.5"
            ]
          },
          "metadata": {
            "tags": []
          },
          "execution_count": 26
        }
      ]
    },
    {
      "cell_type": "markdown",
      "metadata": {
        "id": "9N97IK8OMpYK"
      },
      "source": [
        "### mean, sum, max, var, std, sem, median, mode"
      ]
    },
    {
      "cell_type": "code",
      "metadata": {
        "id": "qWXXOf9lMpYK",
        "outputId": "dc13ca38-782d-4b09-ef1a-b9b5f3fc6064",
        "colab": {
          "base_uri": "https://localhost:8080/"
        }
      },
      "source": [
        "df.width.mean()\n"
      ],
      "execution_count": 27,
      "outputs": [
        {
          "output_type": "execute_result",
          "data": {
            "text/plain": [
              "4.533448275862069"
            ]
          },
          "metadata": {
            "tags": []
          },
          "execution_count": 27
        }
      ]
    },
    {
      "cell_type": "code",
      "metadata": {
        "id": "t-Oe9d9IMpYK",
        "outputId": "de2f0fda-8306-4274-8bc0-fe7fbc2488cc",
        "colab": {
          "base_uri": "https://localhost:8080/"
        }
      },
      "source": [
        "df.width.sum()"
      ],
      "execution_count": 28,
      "outputs": [
        {
          "output_type": "execute_result",
          "data": {
            "text/plain": [
              "131.47000000000003"
            ]
          },
          "metadata": {
            "tags": []
          },
          "execution_count": 28
        }
      ]
    },
    {
      "cell_type": "code",
      "metadata": {
        "id": "9Utqie48MpYL",
        "outputId": "ca0b498f-59bb-47d9-d5fa-d2b10e5e0eec",
        "colab": {
          "base_uri": "https://localhost:8080/"
        }
      },
      "source": [
        "df.width.max()"
      ],
      "execution_count": 29,
      "outputs": [
        {
          "output_type": "execute_result",
          "data": {
            "text/plain": [
              "9.16"
            ]
          },
          "metadata": {
            "tags": []
          },
          "execution_count": 29
        }
      ]
    },
    {
      "cell_type": "code",
      "metadata": {
        "id": "zyloexswMpYL",
        "outputId": "ef8f61b7-7276-4608-e861-64328fcbf867",
        "colab": {
          "base_uri": "https://localhost:8080/"
        }
      },
      "source": [
        "df.width.var(ddof=1)\n",
        "# we need to set ddof=1 to divide by n-1. See help(np.var)"
      ],
      "execution_count": 30,
      "outputs": [
        {
          "output_type": "execute_result",
          "data": {
            "text/plain": [
              "7.40638054187192"
            ]
          },
          "metadata": {
            "tags": []
          },
          "execution_count": 30
        }
      ]
    },
    {
      "cell_type": "code",
      "metadata": {
        "id": "m842SXvbMpYL",
        "outputId": "7476dd3c-8f18-453d-d79b-594623f753da",
        "colab": {
          "base_uri": "https://localhost:8080/"
        }
      },
      "source": [
        "df.width.std(ddof=1)"
      ],
      "execution_count": 31,
      "outputs": [
        {
          "output_type": "execute_result",
          "data": {
            "text/plain": [
              "2.721466615976011"
            ]
          },
          "metadata": {
            "tags": []
          },
          "execution_count": 31
        }
      ]
    },
    {
      "cell_type": "code",
      "metadata": {
        "id": "WAvgGs4gMpYM",
        "outputId": "c22c818d-8c3c-4e0a-94df-266dcf2907f6",
        "colab": {
          "base_uri": "https://localhost:8080/"
        }
      },
      "source": [
        "df.width.sem() #standard error of the mean"
      ],
      "execution_count": 32,
      "outputs": [
        {
          "output_type": "execute_result",
          "data": {
            "text/plain": [
              "0.5053636635912223"
            ]
          },
          "metadata": {
            "tags": []
          },
          "execution_count": 32
        }
      ]
    },
    {
      "cell_type": "code",
      "metadata": {
        "scrolled": true,
        "id": "MyNyD63-MpYM",
        "outputId": "0564e170-7f3e-426c-8248-439908cf65ef",
        "colab": {
          "base_uri": "https://localhost:8080/"
        }
      },
      "source": [
        "df.width.median()"
      ],
      "execution_count": 33,
      "outputs": [
        {
          "output_type": "execute_result",
          "data": {
            "text/plain": [
              "4.58"
            ]
          },
          "metadata": {
            "tags": []
          },
          "execution_count": 33
        }
      ]
    },
    {
      "cell_type": "code",
      "metadata": {
        "id": "8Kka6tr0MpYM",
        "outputId": "c56fbcbf-9be2-4a04-d871-fadd6da32686",
        "colab": {
          "base_uri": "https://localhost:8080/"
        }
      },
      "source": [
        "df.width.mode()"
      ],
      "execution_count": 34,
      "outputs": [
        {
          "output_type": "execute_result",
          "data": {
            "text/plain": [
              "0     0.05\n",
              "1     0.35\n",
              "2     1.05\n",
              "3     1.22\n",
              "4     1.28\n",
              "5     1.75\n",
              "6     2.03\n",
              "7     2.21\n",
              "8     2.52\n",
              "9     2.69\n",
              "10    2.91\n",
              "11    3.61\n",
              "12    3.65\n",
              "13    4.05\n",
              "14    4.58\n",
              "15    5.20\n",
              "16    5.51\n",
              "17    5.55\n",
              "18    6.06\n",
              "19    6.07\n",
              "20    6.37\n",
              "21    6.44\n",
              "22    6.57\n",
              "23    7.59\n",
              "24    7.91\n",
              "25    8.04\n",
              "26    8.28\n",
              "27    8.77\n",
              "28    9.16\n",
              "dtype: float64"
            ]
          },
          "metadata": {
            "tags": []
          },
          "execution_count": 34
        }
      ]
    },
    {
      "cell_type": "markdown",
      "metadata": {
        "id": "1oom3P2MMpYN"
      },
      "source": [
        "The reason that the entire data set is returned, is because each value is a mode as each value only occurs once. "
      ]
    },
    {
      "cell_type": "markdown",
      "metadata": {
        "id": "H1WopvJoMpYN"
      },
      "source": [
        "### size\n",
        "\n",
        "Used here to count the number of items in a dataframe, or its columns. "
      ]
    },
    {
      "cell_type": "code",
      "metadata": {
        "id": "B0dRezexMpYN",
        "outputId": "49db1cb7-71d8-4988-e7b5-398d6976dbb4",
        "colab": {
          "base_uri": "https://localhost:8080/"
        }
      },
      "source": [
        "df.size"
      ],
      "execution_count": 35,
      "outputs": [
        {
          "output_type": "execute_result",
          "data": {
            "text/plain": [
              "232"
            ]
          },
          "metadata": {
            "tags": []
          },
          "execution_count": 35
        }
      ]
    },
    {
      "cell_type": "code",
      "metadata": {
        "id": "bJHPqlpvMpYN",
        "outputId": "034836b5-4803-4856-fac2-afc89c899dd7",
        "colab": {
          "base_uri": "https://localhost:8080/"
        }
      },
      "source": [
        "df.width.size"
      ],
      "execution_count": 36,
      "outputs": [
        {
          "output_type": "execute_result",
          "data": {
            "text/plain": [
              "29"
            ]
          },
          "metadata": {
            "tags": []
          },
          "execution_count": 36
        }
      ]
    },
    {
      "cell_type": "code",
      "metadata": {
        "id": "7uCbzQdyMpYO",
        "outputId": "7d9544f8-121c-41dd-dea1-f01f9d4b8de4",
        "colab": {
          "base_uri": "https://localhost:8080/"
        }
      },
      "source": [
        "df.height.size"
      ],
      "execution_count": 37,
      "outputs": [
        {
          "output_type": "execute_result",
          "data": {
            "text/plain": [
              "29"
            ]
          },
          "metadata": {
            "tags": []
          },
          "execution_count": 37
        }
      ]
    },
    {
      "cell_type": "markdown",
      "metadata": {
        "id": "dqHKCAGwMpYO"
      },
      "source": [
        "### loc\n",
        "\n",
        "Used to find the location of a data item in the dataframe. First location is always 0. "
      ]
    },
    {
      "cell_type": "code",
      "metadata": {
        "id": "-WMiI_C5MpYO",
        "outputId": "f32c5cc5-fa69-49e5-be1c-6c1105358d3c",
        "colab": {
          "base_uri": "https://localhost:8080/",
          "height": 80
        }
      },
      "source": [
        "df.loc[df['width']==2.91]"
      ],
      "execution_count": 38,
      "outputs": [
        {
          "output_type": "execute_result",
          "data": {
            "text/html": [
              "<div>\n",
              "<style scoped>\n",
              "    .dataframe tbody tr th:only-of-type {\n",
              "        vertical-align: middle;\n",
              "    }\n",
              "\n",
              "    .dataframe tbody tr th {\n",
              "        vertical-align: top;\n",
              "    }\n",
              "\n",
              "    .dataframe thead th {\n",
              "        text-align: right;\n",
              "    }\n",
              "</style>\n",
              "<table border=\"1\" class=\"dataframe\">\n",
              "  <thead>\n",
              "    <tr style=\"text-align: right;\">\n",
              "      <th></th>\n",
              "      <th>width</th>\n",
              "      <th>height</th>\n",
              "      <th>sum</th>\n",
              "      <th>ordinal</th>\n",
              "      <th>std_comp</th>\n",
              "      <th>mod_comp</th>\n",
              "      <th>dense</th>\n",
              "      <th>fractional</th>\n",
              "    </tr>\n",
              "  </thead>\n",
              "  <tbody>\n",
              "    <tr>\n",
              "      <th>0</th>\n",
              "      <td>2.91</td>\n",
              "      <td>0.03</td>\n",
              "      <td>2.94</td>\n",
              "      <td>3.0</td>\n",
              "      <td>3.0</td>\n",
              "      <td>3.0</td>\n",
              "      <td>3.0</td>\n",
              "      <td>3.0</td>\n",
              "    </tr>\n",
              "  </tbody>\n",
              "</table>\n",
              "</div>"
            ],
            "text/plain": [
              "   width  height   sum  ordinal  std_comp  mod_comp  dense  fractional\n",
              "0   2.91    0.03  2.94      3.0       3.0       3.0    3.0         3.0"
            ]
          },
          "metadata": {
            "tags": []
          },
          "execution_count": 38
        }
      ]
    },
    {
      "cell_type": "markdown",
      "metadata": {
        "id": "Pn0OfUTtMpYO"
      },
      "source": [
        "### quantile\n",
        "\n",
        "Calculates values at the given quantile of a dataset. Examples calculate the median and IQR for the width."
      ]
    },
    {
      "cell_type": "code",
      "metadata": {
        "id": "77XGjaH_MpYP",
        "outputId": "35d9bc69-52fb-4efa-c3ea-47cfd2c43fc5",
        "colab": {
          "base_uri": "https://localhost:8080/"
        }
      },
      "source": [
        "df.width.quantile(.5)"
      ],
      "execution_count": 39,
      "outputs": [
        {
          "output_type": "execute_result",
          "data": {
            "text/plain": [
              "4.58"
            ]
          },
          "metadata": {
            "tags": []
          },
          "execution_count": 39
        }
      ]
    },
    {
      "cell_type": "code",
      "metadata": {
        "id": "N3FlLITnMpYP",
        "outputId": "3120aea4-d73f-46f1-fe04-8af7d9617036",
        "colab": {
          "base_uri": "https://localhost:8080/"
        }
      },
      "source": [
        "IQR=df.width.quantile(.75)-df.width.quantile(.25)\n",
        "print(IQR)"
      ],
      "execution_count": 40,
      "outputs": [
        {
          "output_type": "stream",
          "text": [
            "4.23\n"
          ],
          "name": "stdout"
        }
      ]
    },
    {
      "cell_type": "markdown",
      "metadata": {
        "id": "Ca1nLQGkMpYP"
      },
      "source": [
        "## New functions in numpy"
      ]
    },
    {
      "cell_type": "markdown",
      "metadata": {
        "id": "TiJsFHW4MpYP"
      },
      "source": [
        "## arange\n",
        "\n",
        "Returns evenly spaced values within a given interval. The start defaults to zero. Used in graphing. \n"
      ]
    },
    {
      "cell_type": "code",
      "metadata": {
        "scrolled": true,
        "id": "qW-0saWNMpYQ",
        "outputId": "b48d0b15-a8f7-43b9-f858-5cae70d81ffe",
        "colab": {
          "base_uri": "https://localhost:8080/"
        }
      },
      "source": [
        "import numpy as np\n",
        "x_axis=np.arange(df.height.size)\n",
        "print(x_axis)"
      ],
      "execution_count": 41,
      "outputs": [
        {
          "output_type": "stream",
          "text": [
            "[ 0  1  2  3  4  5  6  7  8  9 10 11 12 13 14 15 16 17 18 19 20 21 22 23\n",
            " 24 25 26 27 28]\n"
          ],
          "name": "stdout"
        }
      ]
    },
    {
      "cell_type": "markdown",
      "metadata": {
        "id": "RlCmYr_zMpYQ"
      },
      "source": [
        "## New functions in matplotlib.pyplot"
      ]
    },
    {
      "cell_type": "markdown",
      "metadata": {
        "id": "hqOrErzaMpYR"
      },
      "source": [
        "## hist, show\n",
        "\n",
        "Draws a histogram. Also produces a cumulative histogram by setting cumulative = True"
      ]
    },
    {
      "cell_type": "code",
      "metadata": {
        "id": "E3ChL9kxMpYR",
        "outputId": "bf7056fc-0187-47b7-ab5d-bd15a3a28b70",
        "colab": {
          "base_uri": "https://localhost:8080/",
          "height": 265
        }
      },
      "source": [
        "import matplotlib.pyplot as plt\n",
        "plt.hist(df.height, color='plum', bins=5)\n",
        "plt.show()"
      ],
      "execution_count": 42,
      "outputs": [
        {
          "output_type": "display_data",
          "data": {
            "image/png": "[encoded data removed]",
            "text/plain": [
              "<Figure size 432x288 with 1 Axes>"
            ]
          },
          "metadata": {
            "tags": [],
            "needs_background": "light"
          }
        }
      ]
    },
    {
      "cell_type": "code",
      "metadata": {
        "id": "7Uv5uRfrMpYR",
        "outputId": "6cf25bbd-0dfd-4a1a-cab4-56b70b1b4d93",
        "colab": {
          "base_uri": "https://localhost:8080/",
          "height": 266
        }
      },
      "source": [
        "plt.hist(df.height, color='plum', bins=5, cumulative=True)\n",
        "plt.show()"
      ],
      "execution_count": 43,
      "outputs": [
        {
          "output_type": "display_data",
          "data": {
            "image/png": "[encoded data removed]",
            "text/plain": [
              "<Figure size 432x288 with 1 Axes>"
            ]
          },
          "metadata": {
            "tags": [],
            "needs_background": "light"
          }
        }
      ]
    },
    {
      "cell_type": "markdown",
      "metadata": {
        "id": "yJb7tq1yMpYS"
      },
      "source": [
        "## plot, grid, title, xlabel, ylabel"
      ]
    },
    {
      "cell_type": "code",
      "metadata": {
        "id": "XNcd8w-nMpYS",
        "outputId": "ce4ddf4d-dc32-4ee3-8240-76770bb63756",
        "colab": {
          "base_uri": "https://localhost:8080/",
          "height": 295
        }
      },
      "source": [
        "plt.grid(True)\n",
        "plt.title('plot')\n",
        "plt.xlabel('width')\n",
        "plt.ylabel('height')\n",
        "plt.plot(df.height, color='plum', marker='o')\n",
        "plt.show()"
      ],
      "execution_count": 44,
      "outputs": [
        {
          "output_type": "display_data",
          "data": {
            "image/png": "[encoded data removed]",
            "text/plain": [
              "<Figure size 432x288 with 1 Axes>"
            ]
          },
          "metadata": {
            "tags": [],
            "needs_background": "light"
          }
        }
      ]
    },
    {
      "cell_type": "markdown",
      "metadata": {
        "id": "jiZeE7d0MpYT"
      },
      "source": [
        "## scatter\n",
        "\n",
        "Same as plot, without joining lines. Need to provide x and y values. \n"
      ]
    },
    {
      "cell_type": "code",
      "metadata": {
        "id": "rQOpGVVdMpYT",
        "outputId": "1ea3c79a-65b4-453a-cfdc-b5339469b1e1",
        "colab": {
          "base_uri": "https://localhost:8080/",
          "height": 265
        }
      },
      "source": [
        "plt.scatter(df.width, df.height, color='plum', marker='o')\n",
        "plt.show()"
      ],
      "execution_count": 45,
      "outputs": [
        {
          "output_type": "display_data",
          "data": {
            "image/png": "[encoded data removed]",
            "text/plain": [
              "<Figure size 432x288 with 1 Axes>"
            ]
          },
          "metadata": {
            "tags": [],
            "needs_background": "light"
          }
        }
      ]
    },
    {
      "cell_type": "markdown",
      "metadata": {
        "id": "fQu86FHKMpYT"
      },
      "source": [
        "This second example just plots the heights against the index, to illustrate the use of the arange function that computed x_axis above. "
      ]
    },
    {
      "cell_type": "code",
      "metadata": {
        "id": "g2lbRvCeMpYT",
        "outputId": "24239eb0-8828-4eb1-b1d8-369aa46462e2",
        "colab": {
          "base_uri": "https://localhost:8080/",
          "height": 265
        }
      },
      "source": [
        "plt.scatter(x_axis, df.height)\n",
        "plt.show()"
      ],
      "execution_count": 46,
      "outputs": [
        {
          "output_type": "display_data",
          "data": {
            "image/png": "[encoded data removed]",
            "text/plain": [
              "<Figure size 432x288 with 1 Axes>"
            ]
          },
          "metadata": {
            "tags": [],
            "needs_background": "light"
          }
        }
      ]
    },
    {
      "cell_type": "markdown",
      "metadata": {
        "id": "iYYqj0-cMpYU"
      },
      "source": [
        "### boxplot"
      ]
    },
    {
      "cell_type": "code",
      "metadata": {
        "id": "JwBr1fF1MpYU",
        "outputId": "010e0fee-3af8-4cb0-fdd8-067c26573e6f",
        "colab": {
          "base_uri": "https://localhost:8080/",
          "height": 265
        }
      },
      "source": [
        "plt.boxplot(df.width)\n",
        "plt.grid(True)\n",
        "plt.show()"
      ],
      "execution_count": 47,
      "outputs": [
        {
          "output_type": "display_data",
          "data": {
            "image/png": "[encoded data removed]",
            "text/plain": [
              "<Figure size 432x288 with 1 Axes>"
            ]
          },
          "metadata": {
            "tags": [],
            "needs_background": "light"
          }
        }
      ]
    },
    {
      "cell_type": "markdown",
      "metadata": {
        "id": "DUJvV9tWMpYU"
      },
      "source": [
        "## New function in stemgraphic"
      ]
    },
    {
      "cell_type": "code",
      "metadata": {
        "id": "BKn7COCJMpYU"
      },
      "source": [
        "# This package may not be installed on your computer\n",
        "# To install stemgraphic, open Anaconda Prompt and type 'pip install stemgraphic' before importing it"
      ],
      "execution_count": 48,
      "outputs": []
    },
    {
      "cell_type": "markdown",
      "metadata": {
        "id": "XC_Gz6hLMpYV"
      },
      "source": [
        "### stem_graphic\n",
        "\n",
        "draws a stem-and-leaf diagram\n",
        "The asc option determines if the data is shown ascending (asc=True) or descending (asc=False)\n",
        "By choosing the descending option it is easier to relate the diagram to a plot, which ascends left to right\n"
      ]
    },
    {
      "cell_type": "code",
      "metadata": {
        "id": "MULhWirMMpYV",
        "outputId": "36d3902e-0df2-471f-ec13-d3abd350f654",
        "colab": {
          "base_uri": "https://localhost:8080/",
          "height": 600
        }
      },
      "source": [
        "!pip install stemgraphic\n",
        "import stemgraphic as stl\n",
        "stl.stem_graphic(df.width, asc = False) "
      ],
      "execution_count": 54,
      "outputs": [
        {
          "output_type": "stream",
          "text": [
            "Collecting stemgraphic\n",
            "\u001b[?25l  Downloading https://files.pythonhosted.org/packages/38/ea/5a6a3c28e4404d5f57f1bd9c332e48e99b548a881570eef9b1fc0ceb0598/stemgraphic-0.9.1-py3-none-any.whl (61kB)\n",
            "\r\u001b[K     |█████▎                          | 10kB 13.1MB/s eta 0:00:01\r\u001b[K     |██████████▋                     | 20kB 18.9MB/s eta 0:00:01\r\u001b[K     |███████████████▉                | 30kB 23.6MB/s eta 0:00:01\r\u001b[K     |█████████████████████▏          | 40kB 27.5MB/s eta 0:00:01\r\u001b[K     |██████████████████████████▌     | 51kB 30.3MB/s eta 0:00:01\r\u001b[K     |███████████████████████████████▊| 61kB 27.3MB/s eta 0:00:01\r\u001b[K     |████████████████████████████████| 71kB 6.7MB/s \n",
            "\u001b[?25hRequirement already satisfied: docopt in /usr/local/lib/python3.7/dist-packages (from stemgraphic) (0.6.2)\n",
            "Requirement already satisfied: seaborn in /usr/local/lib/python3.7/dist-packages (from stemgraphic) (0.11.1)\n",
            "Requirement already satisfied: pandas in /usr/local/lib/python3.7/dist-packages (from stemgraphic) (1.1.5)\n",
            "Requirement already satisfied: matplotlib in /usr/local/lib/python3.7/dist-packages (from stemgraphic) (3.2.2)\n",
            "Requirement already satisfied: scipy>=1.0 in /usr/local/lib/python3.7/dist-packages (from seaborn->stemgraphic) (1.4.1)\n",
            "Requirement already satisfied: numpy>=1.15 in /usr/local/lib/python3.7/dist-packages (from seaborn->stemgraphic) (1.19.5)\n",
            "Requirement already satisfied: python-dateutil>=2.7.3 in /usr/local/lib/python3.7/dist-packages (from pandas->stemgraphic) (2.8.1)\n",
            "Requirement already satisfied: pytz>=2017.2 in /usr/local/lib/python3.7/dist-packages (from pandas->stemgraphic) (2018.9)\n",
            "Requirement already satisfied: pyparsing!=2.0.4,!=2.1.2,!=2.1.6,>=2.0.1 in /usr/local/lib/python3.7/dist-packages (from matplotlib->stemgraphic) (2.4.7)\n",
            "Requirement already satisfied: cycler>=0.10 in /usr/local/lib/python3.7/dist-packages (from matplotlib->stemgraphic) (0.10.0)\n",
            "Requirement already satisfied: kiwisolver>=1.0.1 in /usr/local/lib/python3.7/dist-packages (from matplotlib->stemgraphic) (1.3.1)\n",
            "Requirement already satisfied: six>=1.5 in /usr/local/lib/python3.7/dist-packages (from python-dateutil>=2.7.3->pandas->stemgraphic) (1.15.0)\n",
            "Installing collected packages: stemgraphic\n",
            "Successfully installed stemgraphic-0.9.1\n"
          ],
          "name": "stdout"
        },
        {
          "output_type": "execute_result",
          "data": {
            "text/plain": [
              "(<Figure size 540x234 with 1 Axes>,\n",
              " <matplotlib.axes._axes.Axes at 0x7f0dfcbbc610>)"
            ]
          },
          "metadata": {
            "tags": []
          },
          "execution_count": 54
        },
        {
          "output_type": "display_data",
          "data": {
            "image/png": "[encoded data removed]",
            "text/plain": [
              "<Figure size 540x234 with 1 Axes>"
            ]
          },
          "metadata": {
            "tags": [],
            "needs_background": "light"
          }
        }
      ]
    },
    {
      "cell_type": "code",
      "metadata": {
        "id": "rWF10hgDMpYV"
      },
      "source": [
        ""
      ],
      "execution_count": null,
      "outputs": []
    }
  ]
}